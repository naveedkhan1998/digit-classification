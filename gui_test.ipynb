{
 "cells": [
  {
   "cell_type": "code",
   "execution_count": 1,
   "metadata": {},
   "outputs": [],
   "source": [
    "from keras.models import load_model\n",
    "from tkinter import *\n",
    "import tkinter as tk\n",
    "import win32gui\n",
    "from PIL import ImageGrab, ImageOps,Image,ImageTk\n",
    "import numpy as np\n"
   ]
  },
  {
   "cell_type": "code",
   "execution_count": 2,
   "metadata": {},
   "outputs": [
    {
     "name": "stdout",
     "output_type": "stream",
     "text": [
      "1/1 [==============================] - 0s 84ms/step\n",
      "1/1 [==============================] - 0s 15ms/step\n"
     ]
    }
   ],
   "source": [
    "# Load your pre-trained model\n",
    "model = load_model(\"mnist.h5\")\n",
    "\n",
    "\n",
    "def predict_digit(img):\n",
    "    # Resize image to 28x28 pixels\n",
    "    img = img.resize((28, 28))\n",
    "    # Convert RGB to grayscale\n",
    "    img = img.convert(\"L\")\n",
    "    img = np.array(img)\n",
    "    # Reshape to support our model input and normalize\n",
    "    img = img.reshape(1, 28, 28, 1)\n",
    "    img = img / 255.0\n",
    "    # Predicting the class\n",
    "    res = model.predict(img)[0]\n",
    "    return np.argmax(res), max(res)\n",
    "\n",
    "\n",
    "class App(tk.Tk):\n",
    "    def __init__(self):\n",
    "        tk.Tk.__init__(self)\n",
    "\n",
    "        self.x = self.y = 0\n",
    "\n",
    "        # Creating elements\n",
    "        # mnist dataset has images with a black background and text written in white\n",
    "        self.canvas = tk.Canvas(self, width=300, height=300, bg=\"white\", cursor=\"cross\")\n",
    "        self.label = tk.Label(self, text=\"Draw..\", font=(\"Helvetica\", 48), fg=\"black\")\n",
    "        self.classify_btn = tk.Button(\n",
    "            self, text=\"Recognize\", command=self.classify_handwriting\n",
    "        )\n",
    "        self.button_clear = tk.Button(self, text=\"Clear\", command=self.clear_all)\n",
    "\n",
    "        # Grid structure\n",
    "        self.canvas.grid(row=0, column=0, pady=2, sticky=tk.W)\n",
    "        self.label.grid(row=0, column=1, pady=2, padx=2)\n",
    "        self.classify_btn.grid(row=1, column=1, pady=2, padx=2)\n",
    "        self.button_clear.grid(row=1, column=0, pady=2)\n",
    "\n",
    "        self.canvas.bind(\"<B1-Motion>\", self.draw_lines)\n",
    "\n",
    "    def clear_all(self):\n",
    "        self.canvas.delete(\"all\")\n",
    "\n",
    "    def classify_handwriting(self):\n",
    "        x = (\n",
    "            self.winfo_x() + self.canvas.winfo_x()\n",
    "        )  # Get the X coordinate relative to the screen\n",
    "        y = (\n",
    "            self.winfo_y() + self.canvas.winfo_y()\n",
    "        )  # Get the Y coordinate relative to the screen\n",
    "        rect = (x, y, x + self.canvas.winfo_width(), y + self.canvas.winfo_height())\n",
    "        im = ImageGrab.grab(rect)\n",
    "\n",
    "        # Invert the colors of the image\n",
    "        im = ImageOps.invert(im)\n",
    "\n",
    "        digit, acc = predict_digit(im)\n",
    "        self.label.configure(text=str(digit) + \", \" + str(int(acc * 100)) + \"%\")\n",
    "\n",
    "        # Convert the inverted image to a PhotoImage\n",
    "        img_tk = ImageTk.PhotoImage(im)\n",
    "\n",
    "        # Display the inverted image in a new window\n",
    "        img_window = tk.Toplevel(self)\n",
    "        img_window.title(\"Inverted Image\")\n",
    "        img_label = tk.Label(img_window, image=img_tk)\n",
    "        img_label.pack()\n",
    "        img_window.mainloop()\n",
    "\n",
    "    def draw_lines(self, event):\n",
    "        self.x = event.x\n",
    "        self.y = event.y\n",
    "        r = 8\n",
    "        self.canvas.create_oval(\n",
    "            self.x - r, self.y - r, self.x + r, self.y + r, fill=\"black\"\n",
    "        )\n",
    "\n",
    "\n",
    "app = App()\n",
    "app.mainloop()"
   ]
  },
  {
   "cell_type": "code",
   "execution_count": null,
   "metadata": {},
   "outputs": [],
   "source": []
  }
 ],
 "metadata": {
  "kernelspec": {
   "display_name": "venv",
   "language": "python",
   "name": "python3"
  },
  "language_info": {
   "codemirror_mode": {
    "name": "ipython",
    "version": 3
   },
   "file_extension": ".py",
   "mimetype": "text/x-python",
   "name": "python",
   "nbconvert_exporter": "python",
   "pygments_lexer": "ipython3",
   "version": "3.8.8"
  }
 },
 "nbformat": 4,
 "nbformat_minor": 2
}
